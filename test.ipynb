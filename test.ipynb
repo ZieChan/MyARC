{
 "cells": [
  {
   "cell_type": "code",
   "execution_count": 5,
   "metadata": {},
   "outputs": [
    {
     "name": "stdout",
     "output_type": "stream",
     "text": [
      "import numpy as np\n",
      "\n",
      "def expand_element(e):\n",
      "    \"\"\"Convert each element into a 3x3 submatrix.\"\"\"\n",
      "    if e == 0:\n",
      "        return np.zeros((3, 3), dtype=int)\n",
      "    else:\n",
      "        submatrix = np.zeros((3, 3), dtype=int)\n",
      "        submatrix[0, 1] = submatrix[1, 0] = submatrix[1, 1] = submatrix[1, 2] = submatrix[2, 1] = e\n",
      "        return submatrix\n",
      "\n",
      "def convert_input_to_output(input_matrix):\n",
      "    \"\"\"Expand the input matrix to a 9x9 output matrix.\"\"\"\n",
      "    output_matrix = np.zeros((9, 9), dtype=int)\n",
      "    for i in range(3):\n",
      "        for j in range(3):\n",
      "            output_matrix[i*3:(i+1)*3, j*3:(j+1)*3] = expand_element(input_matrix[i][j])\n",
      "    return output_matrix\n",
      "\n",
      "# Testing the program with the train examples\n",
      "\n",
      "train_examples = [\n",
      "    {\"input\": [[0, 7, 7], [7, 7, 7], [0, 7, 7]]},\n",
      "    {\"input\": [[4, 0, 4], [0, 0, 0], [0, 4, 0]]},\n",
      "    {\"input\": [[0, 0, 0], [0, 0, 2], [2, 0, 2]]},\n",
      "    {\"input\": [[6, 6, 0], [6, 0, 0], [0, 6, 6]]},\n",
      "    {\"input\": [[2, 2, 2], [0, 0, 0], [0, 2, 2]]}\n",
      "]\n",
      "\n",
      "# Generate output for each train example\n",
      "for example in train_examples:\n",
      "    input_matrix = np.array(example[\"input\"])\n",
      "    output_matrix = convert_input_to_output(input_matrix)\n",
      "    print(\"Input:\")\n",
      "    print(input_matrix)\n",
      "    print(\"Generated Output:\")\n",
      "    print(output_matrix)\n"
     ]
    }
   ],
   "source": [
    "import json\n",
    "\n",
    "# 打开并读取 JSON 文件\n",
    "with open('./myPrompt.json', 'r') as f:\n",
    "    data = json.load(f)\n",
    "\n",
    "# 打印读取的数据\n",
    "print(data['1']['output']['code'])"
   ]
  },
  {
   "cell_type": "code",
   "execution_count": null,
   "metadata": {},
   "outputs": [],
   "source": []
  }
 ],
 "metadata": {
  "kernelspec": {
   "display_name": "base",
   "language": "python",
   "name": "python3"
  },
  "language_info": {
   "codemirror_mode": {
    "name": "ipython",
    "version": 3
   },
   "file_extension": ".py",
   "mimetype": "text/x-python",
   "name": "python",
   "nbconvert_exporter": "python",
   "pygments_lexer": "ipython3",
   "version": "3.11.5"
  }
 },
 "nbformat": 4,
 "nbformat_minor": 2
}
